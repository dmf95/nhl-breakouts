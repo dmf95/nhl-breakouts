{
 "cells": [
  {
   "cell_type": "markdown",
   "metadata": {},
   "source": [
    "## Testing out some code to hit the NHL API\n",
    "\n",
    "\n",
    "Resources\n",
    "\n",
    "* https://towardsdatascience.com/nhl-analytics-with-python-6390c5d3206d\n",
    "* https://nhl-api-explorer.herokuapp.com/\n",
    "* https://gitlab.com/dword4/nhlapi\n",
    "* https://gitlab.com/dword4/nhlapi/-/blob/master/stats-api.md#game-ids\n",
    "* https://github.com/dword4/nhlapi"
   ]
  },
  {
   "cell_type": "markdown",
   "metadata": {},
   "source": [
    "Game IDs\n",
    "* The first 4 digits identify the season of the game (ie. 2017 for the 2017-2018 season). \n",
    "* The next 2 digits give the type of game, where 01 = preseason, 02 = regular season, 03 = playoffs, 04 = all-star. \n",
    "* The final 4 digits identify the specific game number. \n",
    "* For regular season and preseason games, this ranges from 0001 to the number of games played. (1271 for seasons with 31 teams (2017 and onwards) and 1230 for seasons with 30 teams). \n",
    "* For playoff games, the 2nd digit of the specific number gives the round of the playoffs, the 3rd digit specifies the matchup, and the 4th digit specifies the game (out of 7)."
   ]
  },
  {
   "cell_type": "code",
   "execution_count": 131,
   "metadata": {},
   "outputs": [],
   "source": [
    "# Load dependencies\n",
    "import requests\n",
    "import pickle\n",
    "import pandas as pd"
   ]
  },
  {
   "cell_type": "code",
   "execution_count": 194,
   "metadata": {},
   "outputs": [],
   "source": [
    "# Set up the API call variables\n",
    "year = '2021'\n",
    "season_type = '02' \n",
    "max_game_id = 20\n",
    "boxscore_url = '/boxscore'\n",
    "livefeed_url = '/feed/live'\n",
    "game_url = 'http://statsapi.web.nhl.com/api/v1/game/'"
   ]
  },
  {
   "cell_type": "code",
   "execution_count": 205,
   "metadata": {},
   "outputs": [],
   "source": [
    "# Test hitting the boxscore and live feed endpoints, save as JSON files\n",
    "def request_get_data(url, \n",
    "                    year, \n",
    "                    season_type, \n",
    "                    max_game_id, \n",
    "                    endpoint,\n",
    "                    empty_list = [],\n",
    "                    zfill = 4, \n",
    "                    multiple_games = True):\n",
    "\n",
    "    # If multiple_games param is true, the get data for n number of games (uses for loop)\n",
    "    if multiple_games == True:    \n",
    "        for i in range(0, max_game_id):\n",
    "            r = requests.get(url = str(url) + str(year) + str(season_type) + str(max_game_id).zfill(zfill) + str(endpoint))\n",
    "            data = r.json()\n",
    "            empty_list.append(data)\n",
    "\n",
    "    # If multiple_games param is not true, then get data for the 1 game (no for loop)\n",
    "    else:\n",
    "        r = requests.get(url = str(url) + str(year) + str(season_type) + str(max_game_id).zfill(zfill) + str(endpoint))\n",
    "        data = r.json()\n",
    "        empty_list.append(data)\n",
    "\n",
    "    # Rename to game_data_json\n",
    "    game_data_list = empty_list\n",
    "\n",
    "    return game_data_list\n",
    "\n",
    "# Function that takes in a list, converts to json, then saves a copy of that json file in the local folder\n",
    "def save_as_json(list, \n",
    "                 file_name = 'data'):\n",
    "    \n",
    "    # Save as json file in same folder the notebook is run (relative)\n",
    "    with open(f'{file_name}.json', 'w') as f:\n",
    "        json.dump(list, f)\n",
    "    \n",
    "    return j_data"
   ]
  },
  {
   "cell_type": "code",
   "execution_count": 206,
   "metadata": {},
   "outputs": [],
   "source": [
    "# For a single game, save json files for both the boxscore and livefeed api\n",
    "single_game_id = 21\n",
    "\n",
    "# Boxscore\n",
    "boxscore_list = request_get_data(game_url, \n",
    "                                        year, \n",
    "                                        season_type, \n",
    "                                        single_game_id, \n",
    "                                        boxscore_url,\n",
    "                                        multiple_games = False)\n",
    "boxscore_json = save_as_json(boxscore_list, 'test_data/boxscore')\n",
    "\n",
    "# Livefeed\n",
    "livefeed_list = request_get_data(game_url, \n",
    "                                        year, \n",
    "                                        season_type, \n",
    "                                        single_game_id, \n",
    "                                        livefeed_url,\n",
    "                                        multiple_games = False)\n",
    "livefeed_json = save_as_json(livefeed_list, 'test_data/livefeed')"
   ]
  },
  {
   "cell_type": "code",
   "execution_count": null,
   "metadata": {},
   "outputs": [],
   "source": []
  },
  {
   "cell_type": "code",
   "execution_count": null,
   "metadata": {},
   "outputs": [],
   "source": [
    "# For every player in the the boxscore, create a summary of their performance by season and other time periods\n"
   ]
  },
  {
   "cell_type": "code",
   "execution_count": 190,
   "metadata": {},
   "outputs": [],
   "source": [
    "r = requests.get(url='http://statsapi.web.nhl.com/api/v1/game/'\n",
    "    + year + season_type + str(max_game_id).zfill(4)+'/feed/live')\n",
    "data = r.json()\n",
    "game_data.append(data)\n",
    "\n",
    "import json\n",
    "with open('data.json', 'w') as f:\n",
    "    json.dump(data, f)"
   ]
  },
  {
   "cell_type": "code",
   "execution_count": 172,
   "metadata": {},
   "outputs": [
    {
     "data": {
      "text/plain": [
       "{'messageNumber': 11, 'message': 'Invalid Request with value: ID'}"
      ]
     },
     "execution_count": 172,
     "metadata": {},
     "output_type": "execute_result"
    }
   ],
   "source": [
    "for i in range(0, max_game_ID):\n",
    "    r = requests.get(url='http://statsapi.web.nhl.com/api/v1/game/'\n",
    "        + year + season_type + str(i).zfill(4)+'/feed/live')\n",
    "    data = r.json()\n",
    "    game_data.append(data)"
   ]
  },
  {
   "cell_type": "code",
   "execution_count": 177,
   "metadata": {},
   "outputs": [],
   "source": [
    "# Loop over the counter and format the API call\n",
    "for i in range(0, max_game_ID):\n",
    "    r = requests.get(url='http://statsapi.web.nhl.com/api/v1/game/'\n",
    "        + year + season_type + str(i).zfill(4)+'/boxscore')\n",
    "    data = r.json()\n",
    "    game_data.append(data)\n"
   ]
  },
  {
   "cell_type": "code",
   "execution_count": 175,
   "metadata": {},
   "outputs": [
    {
     "data": {
      "text/plain": [
       "<bound method Response.json of <Response [200]>>"
      ]
     },
     "execution_count": 175,
     "metadata": {},
     "output_type": "execute_result"
    }
   ],
   "source": [
    "r = requests.get(url = 'http://statsapi.web.nhl.com/api/v1/game/2021020001/boxscore')\n",
    "r.json"
   ]
  },
  {
   "cell_type": "markdown",
   "metadata": {},
   "source": [
    "## Analyzing player shooting data"
   ]
  },
  {
   "cell_type": "code",
   "execution_count": 134,
   "metadata": {},
   "outputs": [],
   "source": [
    "import numpy as np \n",
    "import pandas as pd \n",
    "import pickle    \n",
    "import matplotlib\n",
    "import matplotlib.pyplot as plt\n",
    "color_map = plt.cm.winter\n",
    "from matplotlib.patches import RegularPolygon\n",
    "import math\n",
    "from PIL import Image\n",
    "# Needed for custom colour mapping!\n",
    "from matplotlib.colors import ListedColormap,LinearSegmentedColormap\n",
    "import matplotlib.colors as mcolors"
   ]
  },
  {
   "cell_type": "code",
   "execution_count": 135,
   "metadata": {},
   "outputs": [],
   "source": [
    "# Custom colour map\n",
    "def color_converter(hex_code1, hex_code2):\n",
    "    c = mcolors.ColorConverter()\n",
    "    x = ListedColormap([c.to_rgb(hex_code1),c.to_rgb(hex_code2)])\n",
    "    return x\n",
    "\n",
    "# Define positive and negative\n",
    "positive_cm = color_converter('#e1e5e5', '#d63b36')\n",
    "negative_cm = color_converter('#e1e5e5', '#28aee4')"
   ]
  },
  {
   "cell_type": "code",
   "execution_count": 136,
   "metadata": {},
   "outputs": [],
   "source": [
    "# Do some dictionary initialisation to hold our cleaned and condensed league data\n",
    "league_data = {};\n",
    "league_data['Shot'] = {};\n",
    "league_data['Shot']['x'] = [];\n",
    "league_data['Shot']['y'] = [];\n",
    "league_data['Goal'] = {};\n",
    "league_data['Goal']['x'] = [];\n",
    "league_data['Goal']['y'] = [];"
   ]
  },
  {
   "cell_type": "code",
   "execution_count": 137,
   "metadata": {},
   "outputs": [],
   "source": [
    "# Only keep the events in the data for the Shot and Goals\n",
    "event_types = ['Shot','Goal']"
   ]
  },
  {
   "cell_type": "code",
   "execution_count": 138,
   "metadata": {},
   "outputs": [],
   "source": [
    "# First loop over the elements of game_data. Each one of these is an NHL game \n",
    "# ... and contains all of the game event data.\n",
    "\n",
    "for data in game_data:\n",
    "    # It is possible that the game data is not assigned to the dataset\n",
    "    #... so to handle this we look for the key ‘liveData’ which \n",
    "    #... contains all of the data we are looking for, otherwise we continue\n",
    "    if 'liveData' not in data:\n",
    "        continue\n",
    "    # Drilling down into the dataset to extract the play by play information for the game\n",
    "    plays = data['liveData']['plays']['allPlays'] \n",
    "\n",
    "    for play in plays: # For each play\n",
    "         for event in event_types:  # For each event (Shot,Goal)\n",
    "            # If the play contains one of the events\n",
    "            if play['result']['event'] in [event]:  \n",
    "                # If the event contains coordinates\n",
    "                if 'x' in play['coordinates']:\n",
    "                    # Save the coordinates to the growing list\n",
    "                    league_data[event]['x'].append(play['coordinates']['x'])\n",
    "                    league_data[event]['y'].append(play['coordinates']['y'])"
   ]
  },
  {
   "cell_type": "code",
   "execution_count": 165,
   "metadata": {},
   "outputs": [],
   "source": [
    "# Initialise the player dictionary\n",
    "full_name = 'Kirill Kaprizov'\n",
    "player_data = {};\n",
    "player_data['Shot'] = {};\n",
    "player_data['Shot']['x'] = [];\n",
    "player_data['Shot']['y'] = [];\n",
    "player_data['Goal'] = {};\n",
    "player_data['Goal']['x'] = [];\n",
    "player_data['Goal']['y'] = [];"
   ]
  },
  {
   "cell_type": "code",
   "execution_count": 140,
   "metadata": {},
   "outputs": [],
   "source": [
    "# Same code as before\n",
    "for play in plays:\n",
    "    if 'players' in play:\n",
    "        for player in play['players']:\n",
    "            if player['player']['fullName'] in [full_name] and player['playerType'] in [\"Shooter\",\"Scorer\"]:\n",
    "                for event in event_types:  # For each event (Shot,Goal)\n",
    "                    # If the play contains one of the events\n",
    "                    if play['result']['event'] in [event]:  \n",
    "                        # If the event contains coordinates\n",
    "                        if 'x' in play['coordinates']:\n",
    "                            # Save the coordinates to the growing list\n",
    "                            league_data[event]['x'].append(play['coordinates']['x'])\n",
    "                            league_data[event]['y'].append(play['coordinates']['y'])"
   ]
  },
  {
   "cell_type": "markdown",
   "metadata": {},
   "source": [
    "## Calculating Basic Stats"
   ]
  },
  {
   "cell_type": "code",
   "execution_count": 142,
   "metadata": {},
   "outputs": [
    {
     "ename": "SyntaxError",
     "evalue": "invalid syntax (<ipython-input-142-e10c8eeb60d6>, line 10)",
     "output_type": "error",
     "traceback": [
      "\u001b[1;36m  File \u001b[1;32m\"<ipython-input-142-e10c8eeb60d6>\"\u001b[1;36m, line \u001b[1;32m10\u001b[0m\n\u001b[1;33m    else\u001b[0m\n\u001b[1;37m        ^\u001b[0m\n\u001b[1;31mSyntaxError\u001b[0m\u001b[1;31m:\u001b[0m invalid syntax\n"
     ]
    }
   ],
   "source": [
    "# Get the total number of shots made by the player\n",
    "player_total_shots = len(player_data['Shot']['x']) + len(player_data['Goal']['x'])\n",
    "# Find the players goal score percentage\n",
    "player_goal_pct = len(player_data['Goal']['x'])/player_total_shots\n",
    "# Find the total number of shots taken in the league\n",
    "league_total_shots = len(league_data['Shot']['x']) + len(league_data['Goal']['x'])\n",
    "# Get the league percentage\n",
    "if league_total_shots > 0:\n",
    "    league_goal_pct = len(league_data['Goal']['x']) / league_total_shots\n",
    "else\n",
    "    league_goal_pct = .01\n",
    "                \n",
    "# Calculate the spread of the SOG (Shots on Goal) %\n",
    "PL_e_spread = player_goal_pct-league_goal_pct"
   ]
  },
  {
   "cell_type": "code",
   "execution_count": 146,
   "metadata": {},
   "outputs": [
    {
     "data": {
      "text/plain": [
       "{'Shot': {'x': [], 'y': []}, 'Goal': {'x': [], 'y': []}}"
      ]
     },
     "execution_count": 146,
     "metadata": {},
     "output_type": "execute_result"
    }
   ],
   "source": [
    "player_data"
   ]
  }
 ],
 "metadata": {
  "interpreter": {
   "hash": "07a70a5077e9c9feae5d08fa41fc44d95abc22f10394969018e5e0f4ca96aa5b"
  },
  "kernelspec": {
   "display_name": "Python 3.9.1 64-bit (system)",
   "language": "python",
   "name": "python3"
  },
  "language_info": {
   "codemirror_mode": {
    "name": "ipython",
    "version": 3
   },
   "file_extension": ".py",
   "mimetype": "text/x-python",
   "name": "python",
   "nbconvert_exporter": "python",
   "pygments_lexer": "ipython3",
   "version": "3.9.1"
  },
  "orig_nbformat": 4
 },
 "nbformat": 4,
 "nbformat_minor": 2
}
