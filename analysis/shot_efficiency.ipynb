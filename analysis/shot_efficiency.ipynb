{
 "cells": [
  {
   "cell_type": "markdown",
   "metadata": {},
   "source": [
    "## Analyzing Player Shooting Data"
   ]
  },
  {
   "cell_type": "code",
   "execution_count": 1,
   "metadata": {},
   "outputs": [],
   "source": [
    "import numpy as np \n",
    "import pandas as pd \n",
    "import pickle    \n",
    "import matplotlib\n",
    "import matplotlib.pyplot as plt\n",
    "color_map = plt.cm.winter\n",
    "from matplotlib.patches import RegularPolygon\n",
    "import math\n",
    "from PIL import Image\n",
    "\n",
    "# Needed for custom colour mapping!\n",
    "from matplotlib.colors import ListedColormap,LinearSegmentedColormap\n",
    "import matplotlib.colors as mcolors"
   ]
  },
  {
   "cell_type": "code",
   "execution_count": 4,
   "metadata": {},
   "outputs": [],
   "source": [
    "# Custom colour map\n",
    "def color_converter(hex_code1, hex_code2):\n",
    "    c = mcolors.ColorConverter()\n",
    "    x = ListedColormap([c.to_rgb(hex_code1),c.to_rgb(hex_code2)])\n",
    "    return x\n",
    "\n",
    "# Define positive and negative\n",
    "positive_cm = color_converter('#e1e5e5', '#d63b36')\n",
    "negative_cm = color_converter('#e1e5e5', '#28aee4')"
   ]
  },
  {
   "cell_type": "code",
   "execution_count": 5,
   "metadata": {},
   "outputs": [],
   "source": [
    "# Do some dictionary initialisation to hold our cleaned and condensed league data\n",
    "league_data = {};\n",
    "league_data['Shot'] = {};\n",
    "league_data['Shot']['x'] = [];\n",
    "league_data['Shot']['y'] = [];\n",
    "league_data['Goal'] = {};\n",
    "league_data['Goal']['x'] = [];\n",
    "league_data['Goal']['y'] = [];"
   ]
  },
  {
   "cell_type": "code",
   "execution_count": null,
   "metadata": {},
   "outputs": [],
   "source": [
    "# Only keep the events in the data for the Shot and Goals\n",
    "event_types = ['Shot','Goal']"
   ]
  },
  {
   "cell_type": "code",
   "execution_count": null,
   "metadata": {},
   "outputs": [],
   "source": [
    "# First loop over the elements of game_data. Each one of these is an NHL game \n",
    "# ... and contains all of the game event data.\n",
    "\n",
    "for data in game_data:\n",
    "    # It is possible that the game data is not assigned to the dataset\n",
    "    #... so to handle this we look for the key ‘liveData’ which \n",
    "    #... contains all of the data we are looking for, otherwise we continue\n",
    "    if 'liveData' not in data:\n",
    "        continue\n",
    "    # Drilling down into the dataset to extract the play by play information for the game\n",
    "    plays = data['liveData']['plays']['allPlays'] \n",
    "\n",
    "    for play in plays: # For each play\n",
    "         for event in event_types:  # For each event (Shot,Goal)\n",
    "            # If the play contains one of the events\n",
    "            if play['result']['event'] in [event]:  \n",
    "                # If the event contains coordinates\n",
    "                if 'x' in play['coordinates']:\n",
    "                    # Save the coordinates to the growing list\n",
    "                    league_data[event]['x'].append(play['coordinates']['x'])\n",
    "                    league_data[event]['y'].append(play['coordinates']['y'])"
   ]
  },
  {
   "cell_type": "code",
   "execution_count": null,
   "metadata": {},
   "outputs": [],
   "source": [
    "# Initialise the player dictionary\n",
    "full_name = 'Kirill Kaprizov'\n",
    "player_data = {};\n",
    "player_data['Shot'] = {};\n",
    "player_data['Shot']['x'] = [];\n",
    "player_data['Shot']['y'] = [];\n",
    "player_data['Goal'] = {};\n",
    "player_data['Goal']['x'] = [];\n",
    "player_data['Goal']['y'] = [];"
   ]
  },
  {
   "cell_type": "code",
   "execution_count": null,
   "metadata": {},
   "outputs": [],
   "source": [
    "# Same code as before\n",
    "for play in plays:\n",
    "    if 'players' in play:\n",
    "        for player in play['players']:\n",
    "            if player['player']['fullName'] in [full_name] and player['playerType'] in [\"Shooter\",\"Scorer\"]:\n",
    "                for event in event_types:  # For each event (Shot,Goal)\n",
    "                    # If the play contains one of the events\n",
    "                    if play['result']['event'] in [event]:  \n",
    "                        # If the event contains coordinates\n",
    "                        if 'x' in play['coordinates']:\n",
    "                            # Save the coordinates to the growing list\n",
    "                            league_data[event]['x'].append(play['coordinates']['x'])\n",
    "                            league_data[event]['y'].append(play['coordinates']['y'])"
   ]
  },
  {
   "cell_type": "markdown",
   "metadata": {},
   "source": [
    "## Calculating the Average Shooting %"
   ]
  },
  {
   "cell_type": "code",
   "execution_count": null,
   "metadata": {},
   "outputs": [],
   "source": [
    "# Get the total number of shots made by the player\n",
    "player_total_shots = len(player_data['Shot']['x']) + len(player_data['Goal']['x'])\n",
    "# Find the players goal score percentage\n",
    "player_goal_pct = len(player_data['Goal']['x'])/player_total_shots\n",
    "# Find the total number of shots taken in the league\n",
    "league_total_shots = len(league_data['Shot']['x']) + len(league_data['Goal']['x'])\n",
    "# Get the league percentage\n",
    "if league_total_shots > 0:\n",
    "    league_goal_pct = len(league_data['Goal']['x']) / league_total_shots\n",
    "else\n",
    "    league_goal_pct = .01\n",
    "                \n",
    "# Calculate the spread of the SOG (Shots on Goal) %\n",
    "PL_e_spread = player_goal_pct-league_goal_pct"
   ]
  }
 ],
 "metadata": {
  "interpreter": {
   "hash": "2f9f1f59ccab264cb61bcba5a13969fa783c6bbafab76248bc4e34e2fbc614ce"
  },
  "kernelspec": {
   "display_name": "Python 3.9.7 64-bit ('nhl-breakouts': conda)",
   "language": "python",
   "name": "python3"
  },
  "language_info": {
   "codemirror_mode": {
    "name": "ipython",
    "version": 3
   },
   "file_extension": ".py",
   "mimetype": "text/x-python",
   "name": "python",
   "nbconvert_exporter": "python",
   "pygments_lexer": "ipython3",
   "version": "3.9.1"
  },
  "orig_nbformat": 4
 },
 "nbformat": 4,
 "nbformat_minor": 2
}
